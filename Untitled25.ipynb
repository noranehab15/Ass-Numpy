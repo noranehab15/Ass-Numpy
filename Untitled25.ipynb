{
  "nbformat": 4,
  "nbformat_minor": 0,
  "metadata": {
    "colab": {
      "provenance": []
    },
    "kernelspec": {
      "name": "python3",
      "display_name": "Python 3"
    },
    "language_info": {
      "name": "python"
    }
  },
  "cells": [
    {
      "cell_type": "code",
      "execution_count": 1,
      "metadata": {
        "id": "EuzFxm1T7TA4"
      },
      "outputs": [],
      "source": [
        "import numpy as np"
      ]
    },
    {
      "cell_type": "code",
      "source": [
        "arr = np.array([1, 2, 3, 4])\n",
        "test = np.all(arr != 0)\n",
        "print(\"none of the elements of a given array is zero:\" , test)"
      ],
      "metadata": {
        "colab": {
          "base_uri": "https://localhost:8080/"
        },
        "id": "TCfDiC0N8BT8",
        "outputId": "9315d5e6-9c6a-40f1-d747-2581d7ee6e19"
      },
      "execution_count": 10,
      "outputs": [
        {
          "output_type": "stream",
          "name": "stdout",
          "text": [
            "none of the elements of a given array is zero: True\n"
          ]
        }
      ]
    },
    {
      "cell_type": "code",
      "source": [
        "arr1 = np.array([0, 0, 3, 0])\n",
        "result = np.any(arr1 != 0)\n",
        "print(\"Any of the elements is non-zero:\", result)"
      ],
      "metadata": {
        "colab": {
          "base_uri": "https://localhost:8080/"
        },
        "id": "v31T9wMH86F4",
        "outputId": "1a6ce2a0-b7bc-4e0f-b819-e6cb263549c0"
      },
      "execution_count": 12,
      "outputs": [
        {
          "output_type": "stream",
          "name": "stdout",
          "text": [
            "Any of the elements is non-zero: True\n"
          ]
        }
      ]
    },
    {
      "cell_type": "code",
      "source": [
        "zeros_array = np.zeros(10)\n",
        "ones_array = np.ones(10)\n",
        "fives_array = np.ones(10) * 5\n",
        "print(\"Array of 10 zeros:\", zeros_array)\n",
        "print(\"Array of 10 ones:\", ones_array)\n",
        "print(\"Array of 10 fives:\", fives_array)"
      ],
      "metadata": {
        "colab": {
          "base_uri": "https://localhost:8080/"
        },
        "id": "swpbC1Ul9t7d",
        "outputId": "4acc5710-378e-41c0-e815-fd487ea1f3c4"
      },
      "execution_count": 14,
      "outputs": [
        {
          "output_type": "stream",
          "name": "stdout",
          "text": [
            "Array of 10 zeros: [0. 0. 0. 0. 0. 0. 0. 0. 0. 0.]\n",
            "Array of 10 ones: [1. 1. 1. 1. 1. 1. 1. 1. 1. 1.]\n",
            "Array of 10 fives: [5. 5. 5. 5. 5. 5. 5. 5. 5. 5.]\n"
          ]
        }
      ]
    },
    {
      "cell_type": "code",
      "source": [
        "arr = np.arange(30, 71)\n",
        "print(\"Array :\", arr)"
      ],
      "metadata": {
        "colab": {
          "base_uri": "https://localhost:8080/"
        },
        "id": "IBx6PQoG-vHe",
        "outputId": "3ac8d710-7ab0-44a8-9ce0-7ef29a6bafc1"
      },
      "execution_count": 15,
      "outputs": [
        {
          "output_type": "stream",
          "name": "stdout",
          "text": [
            "Array : [30 31 32 33 34 35 36 37 38 39 40 41 42 43 44 45 46 47 48 49 50 51 52 53\n",
            " 54 55 56 57 58 59 60 61 62 63 64 65 66 67 68 69 70]\n"
          ]
        }
      ]
    },
    {
      "cell_type": "code",
      "source": [
        "identity_matrix = np.eye(3)\n",
        "print(identity_matrix)"
      ],
      "metadata": {
        "colab": {
          "base_uri": "https://localhost:8080/"
        },
        "id": "Jb42IX8O_G6N",
        "outputId": "4bc76ca8-ce3c-4dc6-8d0f-8ecffb2b90e9"
      },
      "execution_count": 29,
      "outputs": [
        {
          "output_type": "stream",
          "name": "stdout",
          "text": [
            "[[1. 0. 0.]\n",
            " [0. 1. 0.]\n",
            " [0. 0. 1.]]\n"
          ]
        }
      ]
    },
    {
      "cell_type": "code",
      "source": [
        "random_number = np.random.rand()\n",
        "print(\"random number between 0 and 1:\", random_number)"
      ],
      "metadata": {
        "colab": {
          "base_uri": "https://localhost:8080/"
        },
        "id": "bu9-N3kr_Y83",
        "outputId": "58b70751-0f2e-4259-aadb-f9dafcdd88be"
      },
      "execution_count": 17,
      "outputs": [
        {
          "output_type": "stream",
          "name": "stdout",
          "text": [
            "random number between 0 and 1: 0.7310661453862152\n"
          ]
        }
      ]
    },
    {
      "cell_type": "code",
      "source": [
        "random_array = np.random.randn(15)\n",
        "print(\"array:\", random_array)"
      ],
      "metadata": {
        "colab": {
          "base_uri": "https://localhost:8080/"
        },
        "id": "PBi_BqdO_lrc",
        "outputId": "3e3c5247-0be6-4164-b99e-c26b8b3aa801"
      },
      "execution_count": 25,
      "outputs": [
        {
          "output_type": "stream",
          "name": "stdout",
          "text": [
            "array: [-0.29263206  0.5758257  -1.06349787  0.26093402 -1.74539499 -0.04916342\n",
            " -0.45305691 -0.46834902 -1.19262481 -1.05261786  1.40412493 -0.98461039\n",
            "  1.25215069 -0.25882883 -1.7614634 ]\n"
          ]
        }
      ]
    },
    {
      "cell_type": "code",
      "source": [
        "vector = np.arange(15, 56)\n",
        "print(\" all values except the first and last:\" , vector[1:-1])"
      ],
      "metadata": {
        "colab": {
          "base_uri": "https://localhost:8080/"
        },
        "id": "6a0SDZgBAf_S",
        "outputId": "f909e418-675e-4ffd-af13-8cfdc7bb42c1"
      },
      "execution_count": 28,
      "outputs": [
        {
          "output_type": "stream",
          "name": "stdout",
          "text": [
            " all values except the first and last: [16 17 18 19 20 21 22 23 24 25 26 27 28 29 30 31 32 33 34 35 36 37 38 39\n",
            " 40 41 42 43 44 45 46 47 48 49 50 51 52 53 54]\n"
          ]
        }
      ]
    },
    {
      "cell_type": "code",
      "source": [
        "vector = np.random.randint(0, 11, size=5)\n",
        "print(vector)"
      ],
      "metadata": {
        "colab": {
          "base_uri": "https://localhost:8080/"
        },
        "id": "oBB-0P1fBhAL",
        "outputId": "9c432bc4-6519-47cb-9b93-5a29ef2feb43"
      },
      "execution_count": 31,
      "outputs": [
        {
          "output_type": "stream",
          "name": "stdout",
          "text": [
            "[1 9 7 8 5]\n"
          ]
        }
      ]
    },
    {
      "cell_type": "code",
      "source": [
        "matrix = np.zeros((10, 10), dtype=int )\n",
        "matrix[0, :] = 1\n",
        "matrix[-1, :] = 1\n",
        "matrix[:, 0] = 1\n",
        "matrix[:, -1] = 1\n",
        "\n",
        "print(matrix)"
      ],
      "metadata": {
        "colab": {
          "base_uri": "https://localhost:8080/"
        },
        "id": "le9i1p9LCPgs",
        "outputId": "85187c29-3051-446f-9ba2-a951a816a8a8"
      },
      "execution_count": 35,
      "outputs": [
        {
          "output_type": "stream",
          "name": "stdout",
          "text": [
            "[[1 1 1 1 1 1 1 1 1 1]\n",
            " [1 0 0 0 0 0 0 0 0 1]\n",
            " [1 0 0 0 0 0 0 0 0 1]\n",
            " [1 0 0 0 0 0 0 0 0 1]\n",
            " [1 0 0 0 0 0 0 0 0 1]\n",
            " [1 0 0 0 0 0 0 0 0 1]\n",
            " [1 0 0 0 0 0 0 0 0 1]\n",
            " [1 0 0 0 0 0 0 0 0 1]\n",
            " [1 0 0 0 0 0 0 0 0 1]\n",
            " [1 1 1 1 1 1 1 1 1 1]]\n"
          ]
        }
      ]
    },
    {
      "cell_type": "code",
      "source": [
        "matrix = np.zeros((5, 5), dtype=int)\n",
        "np.fill_diagonal(matrix, [1, 2, 3, 4, 5])\n",
        "\n",
        "print(matrix)"
      ],
      "metadata": {
        "colab": {
          "base_uri": "https://localhost:8080/"
        },
        "id": "qQ3q65XIDLaX",
        "outputId": "102c2344-1c9b-4f65-a12b-07b14bb4c8b0"
      },
      "execution_count": 36,
      "outputs": [
        {
          "output_type": "stream",
          "name": "stdout",
          "text": [
            "[[1 0 0 0 0]\n",
            " [0 2 0 0 0]\n",
            " [0 0 3 0 0]\n",
            " [0 0 0 4 0]\n",
            " [0 0 0 0 5]]\n"
          ]
        }
      ]
    },
    {
      "cell_type": "code",
      "source": [
        "matrix = np.zeros((4, 4), dtype=int)\n",
        "for i in range(4):\n",
        " for j in range(4):\n",
        "  if i != j:\n",
        "     matrix[i, j] = (i + j) % 2\n",
        "print(matrix)"
      ],
      "metadata": {
        "colab": {
          "base_uri": "https://localhost:8080/"
        },
        "id": "B3VbX4fMDriq",
        "outputId": "b82c847f-7ee0-40a1-bea6-49f67980fb50"
      },
      "execution_count": 39,
      "outputs": [
        {
          "output_type": "stream",
          "name": "stdout",
          "text": [
            "[[0 1 0 1]\n",
            " [1 0 1 0]\n",
            " [0 1 0 1]\n",
            " [1 0 1 0]]\n"
          ]
        }
      ]
    },
    {
      "cell_type": "code",
      "source": [
        "array1 = np.array([1, 2, 3, 4, 5])\n",
        "array2 = np.array([6, 7, 8, 9, 10])\n",
        "\n",
        "np.savez_compressed('arrays_data.npz', arr1=array1, arr2=array2)\n",
        "loaded_data = np.load('arrays_data.npz')\n",
        "loaded_array1 = loaded_data['arr1']\n",
        "loaded_array2 = loaded_data['arr2']\n",
        "\n",
        "print(\"Loaded array 1:\", loaded_array1)\n",
        "print(\"Loaded array 2:\", loaded_array2)"
      ],
      "metadata": {
        "colab": {
          "base_uri": "https://localhost:8080/"
        },
        "id": "KPSISY_cEXFH",
        "outputId": "cc337fd9-450d-46ef-c294-282ca54ef65a"
      },
      "execution_count": 40,
      "outputs": [
        {
          "output_type": "stream",
          "name": "stdout",
          "text": [
            "Loaded array 1: [1 2 3 4 5]\n",
            "Loaded array 2: [ 6  7  8  9 10]\n"
          ]
        }
      ]
    },
    {
      "cell_type": "code",
      "source": [
        "random_values = np.random.rand(40)\n",
        "print(random_values)"
      ],
      "metadata": {
        "colab": {
          "base_uri": "https://localhost:8080/"
        },
        "id": "GxyzgU22FF6c",
        "outputId": "c7d0f502-024e-4158-af94-ee7fb82cccba"
      },
      "execution_count": 42,
      "outputs": [
        {
          "output_type": "stream",
          "name": "stdout",
          "text": [
            "[0.07542945 0.94696792 0.61683205 0.02551725 0.72322992 0.21249007\n",
            " 0.42084145 0.64917186 0.96673445 0.65762568 0.79684866 0.19461688\n",
            " 0.47995171 0.45562269 0.76521499 0.15537377 0.11959562 0.50756694\n",
            " 0.35121609 0.63544115 0.89861009 0.8741512  0.06832778 0.57723035\n",
            " 0.35308053 0.43640406 0.84534    0.14405233 0.80254862 0.06274339\n",
            " 0.84879724 0.41117665 0.14360572 0.53768695 0.93159662 0.38415625\n",
            " 0.27894646 0.378128   0.40869202 0.76381794]\n"
          ]
        }
      ]
    },
    {
      "cell_type": "code",
      "source": [
        "arr = np.array([10, 20, 30, 40, 50, 60, 70, 80, 90])\n",
        "specified_number = 35\n",
        "less_than = arr[arr < specified_number]\n",
        "greater_than = arr[arr > specified_number]\n",
        "\n",
        "print(f\"Numbers less than {specified_number}:\" , less_than)\n",
        "print(f\"Numbers greater than {specified_number}:\" ,greater_than)"
      ],
      "metadata": {
        "colab": {
          "base_uri": "https://localhost:8080/"
        },
        "id": "DBCdsQ8NFwm2",
        "outputId": "acc16dd1-2dbb-4283-c275-0d6063672389"
      },
      "execution_count": 47,
      "outputs": [
        {
          "output_type": "stream",
          "name": "stdout",
          "text": [
            "Numbers less than 35: [10 20 30]\n",
            "Numbers greater than 35: [40 50 60 70 80 90]\n"
          ]
        }
      ]
    }
  ]
}